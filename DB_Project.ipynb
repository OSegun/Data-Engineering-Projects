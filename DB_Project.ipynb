{
  "cells": [
    {
      "cell_type": "markdown",
      "metadata": {
        "id": "view-in-github",
        "colab_type": "text"
      },
      "source": [
        "<a href=\"https://colab.research.google.com/github/OSegun/Data-Engineering-Projects/blob/main/DB_Project.ipynb\" target=\"_parent\"><img src=\"https://colab.research.google.com/assets/colab-badge.svg\" alt=\"Open In Colab\"/></a>"
      ]
    },
    {
      "cell_type": "code",
      "execution_count": null,
      "id": "e7cf67ac",
      "metadata": {
        "id": "e7cf67ac",
        "outputId": "85caac75-c1f2-4330-ed88-8bd7176b0d53"
      },
      "outputs": [
        {
          "name": "stdout",
          "output_type": "stream",
          "text": [
            "Collecting psycopg2\n",
            "  Using cached psycopg2-2.9.5-cp39-cp39-win_amd64.whl (1.2 MB)\n",
            "Installing collected packages: psycopg2\n",
            "Successfully installed psycopg2-2.9.5\n"
          ]
        }
      ],
      "source": [
        "!pip install psycopg2"
      ]
    },
    {
      "cell_type": "code",
      "execution_count": null,
      "id": "b41779f5",
      "metadata": {
        "id": "b41779f5"
      },
      "outputs": [],
      "source": [
        "import psycopg2"
      ]
    },
    {
      "cell_type": "code",
      "execution_count": null,
      "id": "701f4915",
      "metadata": {
        "id": "701f4915"
      },
      "outputs": [],
      "source": [
        "conn = psycopg2.connect(\"host=127.0.0.1 dbname=postgres user=postgres password=postgres\")"
      ]
    },
    {
      "cell_type": "code",
      "execution_count": null,
      "id": "31783e9f",
      "metadata": {
        "id": "31783e9f"
      },
      "outputs": [],
      "source": [
        "cur = conn.cursor()"
      ]
    },
    {
      "cell_type": "code",
      "execution_count": null,
      "id": "71f17431",
      "metadata": {
        "id": "71f17431"
      },
      "outputs": [],
      "source": [
        "conn.set_session(autocommit=True)"
      ]
    },
    {
      "cell_type": "code",
      "execution_count": null,
      "id": "dcb95d41",
      "metadata": {
        "collapsed": true,
        "id": "dcb95d41",
        "outputId": "7952e322-45af-4ddb-d600-d6b80264ae65"
      },
      "outputs": [
        {
          "ename": "DuplicateDatabase",
          "evalue": "database \"startdb\" already exists\n",
          "output_type": "error",
          "traceback": [
            "\u001b[1;31m---------------------------------------------------------------------------\u001b[0m",
            "\u001b[1;31mDuplicateDatabase\u001b[0m                         Traceback (most recent call last)",
            "Cell \u001b[1;32mIn[22], line 1\u001b[0m\n\u001b[1;32m----> 1\u001b[0m \u001b[43mcur\u001b[49m\u001b[38;5;241;43m.\u001b[39;49m\u001b[43mexecute\u001b[49m\u001b[43m(\u001b[49m\u001b[38;5;124;43m\"\u001b[39;49m\u001b[38;5;124;43mcreate database StartDB\u001b[39;49m\u001b[38;5;124;43m\"\u001b[39;49m\u001b[43m)\u001b[49m\n",
            "\u001b[1;31mDuplicateDatabase\u001b[0m: database \"startdb\" already exists\n"
          ]
        }
      ],
      "source": [
        "cur.execute(\"create database StartDB\")"
      ]
    },
    {
      "cell_type": "code",
      "execution_count": null,
      "id": "2296f2d4",
      "metadata": {
        "id": "2296f2d4"
      },
      "outputs": [],
      "source": [
        "conn.close()"
      ]
    },
    {
      "cell_type": "code",
      "execution_count": null,
      "id": "2a864c45",
      "metadata": {
        "id": "2a864c45"
      },
      "outputs": [],
      "source": [
        "conn = psycopg2.connect(\"host=127.0.0.1 dbname=startdb user=postgres password=postgres port=5432\")"
      ]
    },
    {
      "cell_type": "code",
      "execution_count": null,
      "id": "42f86387",
      "metadata": {
        "id": "42f86387"
      },
      "outputs": [],
      "source": [
        "cur = conn.cursor()\n",
        "conn.set_session(autocommit=True)"
      ]
    },
    {
      "cell_type": "code",
      "execution_count": null,
      "id": "f3fd44e0",
      "metadata": {
        "id": "f3fd44e0"
      },
      "outputs": [],
      "source": [
        "cur.execute(\"\"\"CREATE TABLE IF NOT EXISTS students (\n",
        "           student_id int,\n",
        "           name varchar,\n",
        "           age int,\n",
        "           gender varchar,\n",
        "           subject varchar,\n",
        "           marks int);\n",
        "            \"\"\")"
      ]
    },
    {
      "cell_type": "code",
      "execution_count": null,
      "id": "f7deaaa8",
      "metadata": {
        "id": "f7deaaa8"
      },
      "outputs": [],
      "source": [
        "cur.execute(\"\"\"INSERT INTO students (\n",
        "            student_id, name, age, gender, subject, marks) \n",
        "            VALUES (%s, %s, %s, %s, %s, %s)\"\"\",\n",
        "           (1, \"Femi\", 22, \"Male\", \"SQL\", 90))\n",
        "cur.execute(\"\"\"INSERT INTO students (\n",
        "            student_id, name, age, gender, subject, marks) \n",
        "            VALUES (%s, %s, %s, %s, %s, %s)\"\"\",\n",
        "           (2, \"Funmi\", 21, \"Female\", \"Python\", 87))"
      ]
    },
    {
      "cell_type": "code",
      "execution_count": null,
      "id": "a49a4798",
      "metadata": {
        "id": "a49a4798",
        "outputId": "0932b74f-6636-4929-cb9d-9feccd6858dd"
      },
      "outputs": [
        {
          "name": "stdout",
          "output_type": "stream",
          "text": [
            "(1, 'Femi', 22, 'Male', 'SQL', 90)\n",
            "(2, 'Funmi', 21, 'Female', 'Python', 87)\n"
          ]
        }
      ],
      "source": [
        "cur.execute(\"SELECT * FROM students\")\n",
        "row = cur.fetchone()\n",
        "while row:\n",
        "    print(row)\n",
        "    row=cur.fetchone()"
      ]
    },
    {
      "cell_type": "code",
      "execution_count": null,
      "id": "40616995",
      "metadata": {
        "id": "40616995"
      },
      "outputs": [],
      "source": [
        "cur.close()\n",
        "conn.close()"
      ]
    }
  ],
  "metadata": {
    "kernelspec": {
      "display_name": "Python 3 (ipykernel)",
      "language": "python",
      "name": "python3"
    },
    "language_info": {
      "codemirror_mode": {
        "name": "ipython",
        "version": 3
      },
      "file_extension": ".py",
      "mimetype": "text/x-python",
      "name": "python",
      "nbconvert_exporter": "python",
      "pygments_lexer": "ipython3",
      "version": "3.9.16"
    },
    "colab": {
      "provenance": [],
      "include_colab_link": true
    }
  },
  "nbformat": 4,
  "nbformat_minor": 5
}