{
  "cells": [
    {
      "cell_type": "markdown",
      "metadata": {
        "id": "view-in-github",
        "colab_type": "text"
      },
      "source": [
        "<a href=\"https://colab.research.google.com/github/OSegun/Data-Engineering-Projects/blob/main/Covid_db.ipynb\" target=\"_parent\"><img src=\"https://colab.research.google.com/assets/colab-badge.svg\" alt=\"Open In Colab\"/></a>"
      ]
    },
    {
      "cell_type": "code",
      "execution_count": null,
      "id": "f3d0354b",
      "metadata": {
        "id": "f3d0354b"
      },
      "outputs": [],
      "source": [
        "# importing necessary libaries\n",
        "import boto3\n",
        "import time\n",
        "import pandas as pd\n",
        "from io import StringIO"
      ]
    },
    {
      "cell_type": "code",
      "execution_count": null,
      "id": "a9f9b58b",
      "metadata": {
        "id": "a9f9b58b"
      },
      "outputs": [],
      "source": [
        "# AWS parameters to be used\n",
        "AWS_ACCESS_KEY =\n",
        "AWS_SECRET_KEY = \n",
        "AWS_REGION = \n",
        "SCHEMA_NAME = \n",
        "S3_STAGING_DIR = \n",
        "S3_BUCKET_NAME = \n",
        "S3_OUTPUT_DIRCTORY = "
      ]
    },
    {
      "cell_type": "code",
      "execution_count": null,
      "id": "a6803f34",
      "metadata": {
        "id": "a6803f34"
      },
      "outputs": [],
      "source": [
        "athena_client = boto3.client(\n",
        "    \"athena\", \n",
        "    aws_access_key_id = AWS_ACCESS_KEY,\n",
        "    aws_secret_access_key = AWS_SECRET_KEY,\n",
        "    region_name = AWS_REGION,\n",
        ")"
      ]
    },
    {
      "cell_type": "code",
      "execution_count": null,
      "id": "4a931949",
      "metadata": {
        "id": "4a931949"
      },
      "outputs": [],
      "source": [
        "Dict = {}\n",
        "\n",
        "def load_query_result(\n",
        "    client: boto3.client, query_response: Dict\n",
        ") -> pd.DataFrame:\n",
        "    \n",
        "    status = \"RUNNING\"\n",
        "    while True:\n",
        "        try:\n",
        "            client.get_query_execution(QueryExecutionId=query_response[\"QueryExecutionId\"])\n",
        "            status = client.get_query_execution(QueryExecutionId=query_response[\"QueryExecutionId\"])['QueryExecution']['Status']['State']\n",
        "            #client.get_query_execution(QueryExecutionId = query_response)\n",
        "            if status == \"SUCCEEDED\":\n",
        "                client.get_query_results(\n",
        "                QueryExecutionId = query_response[\"QueryExecutionId\"]\n",
        "                )\n",
        "            else:\n",
        "                break\n",
        "        except Exception as err:\n",
        "            if \"not yet finished\" in str(err):\n",
        "                time.sleep(0.005)\n",
        "            else:\n",
        "                raise err\n",
        "    temp_file_location: str = \"athena_query_results.csv\"\n",
        "    s3_client = boto3.client(\n",
        "       \"s3\",\n",
        "       aws_access_key_id = AWS_ACCESS_KEY,\n",
        "       aws_secret_access_key = AWS_SECRET_KEY,\n",
        "       region_name = AWS_REGION, \n",
        "    )\n",
        "    s3_client.download_file(\n",
        "        S3_BUCKET_NAME,\n",
        "        f\"{S3_OUTPUT_DIRCTORY}/{query_response['QueryExecutionId']}.csv\", \n",
        "        temp_file_location,\n",
        "    )\n",
        "    return pd.read_csv(temp_file_location)"
      ]
    },
    {
      "cell_type": "markdown",
      "id": "c0b9cde5",
      "metadata": {
        "id": "c0b9cde5"
      },
      "source": [
        "## ETL & Data Analysis"
      ]
    },
    {
      "cell_type": "code",
      "execution_count": null,
      "id": "b695b118",
      "metadata": {
        "id": "b695b118"
      },
      "outputs": [],
      "source": [
        "response = athena_client.start_query_execution(\n",
        "    QueryString = \"SELECT * FROM enigma_jhud\",\n",
        "    QueryExecutionContext = {\"Database\": SCHEMA_NAME},\n",
        "    ResultConfiguration = {\n",
        "        \"OutputLocation\": S3_STAGING_DIR,\n",
        "        \"EncryptionConfiguration\": {\"EncryptionOption\": \"SSE_S3\"},\n",
        "    }\n",
        ")\n",
        "\n",
        "df_data = load_query_result(athena_client, response)"
      ]
    },
    {
      "cell_type": "code",
      "execution_count": null,
      "id": "109115c5",
      "metadata": {
        "id": "109115c5",
        "outputId": "77f25d11-2b8a-49b1-ce43-39ebfdf60d19"
      },
      "outputs": [
        {
          "data": {
            "text/plain": [
              "{'QueryExecutionId': '9f4316ad-dbfc-4614-b8e9-6aadc15c691b',\n",
              " 'ResponseMetadata': {'RequestId': 'a2f3da2b-87ee-43bc-b146-38c992f30393',\n",
              "  'HTTPStatusCode': 200,\n",
              "  'HTTPHeaders': {'date': 'Tue, 21 Mar 2023 16:34:15 GMT',\n",
              "   'content-type': 'application/x-amz-json-1.1',\n",
              "   'content-length': '59',\n",
              "   'connection': 'keep-alive',\n",
              "   'x-amzn-requestid': 'a2f3da2b-87ee-43bc-b146-38c992f30393'},\n",
              "  'RetryAttempts': 0}}"
            ]
          },
          "execution_count": 60,
          "metadata": {},
          "output_type": "execute_result"
        }
      ],
      "source": [
        "response"
      ]
    },
    {
      "cell_type": "code",
      "execution_count": null,
      "id": "775543f9",
      "metadata": {
        "id": "775543f9"
      },
      "outputs": [],
      "source": [
        "enigma_jhud = load_query_result(athena_client, response)"
      ]
    },
    {
      "cell_type": "code",
      "execution_count": null,
      "id": "119cbd02",
      "metadata": {
        "id": "119cbd02",
        "outputId": "2c48afec-198b-408e-cfee-c5fd6b661af3"
      },
      "outputs": [
        {
          "data": {
            "text/html": [
              "<div>\n",
              "<style scoped>\n",
              "    .dataframe tbody tr th:only-of-type {\n",
              "        vertical-align: middle;\n",
              "    }\n",
              "\n",
              "    .dataframe tbody tr th {\n",
              "        vertical-align: top;\n",
              "    }\n",
              "\n",
              "    .dataframe thead th {\n",
              "        text-align: right;\n",
              "    }\n",
              "</style>\n",
              "<table border=\"1\" class=\"dataframe\">\n",
              "  <thead>\n",
              "    <tr style=\"text-align: right;\">\n",
              "      <th></th>\n",
              "      <th>fips</th>\n",
              "      <th>admin2</th>\n",
              "      <th>province_state</th>\n",
              "      <th>country_region</th>\n",
              "      <th>last_update</th>\n",
              "      <th>latitude</th>\n",
              "      <th>longitude</th>\n",
              "      <th>confirmed</th>\n",
              "      <th>deaths</th>\n",
              "      <th>recovered</th>\n",
              "      <th>active</th>\n",
              "      <th>combined_key</th>\n",
              "      <th>partition_0</th>\n",
              "    </tr>\n",
              "  </thead>\n",
              "  <tbody>\n",
              "    <tr>\n",
              "      <th>0</th>\n",
              "      <td>NaN</td>\n",
              "      <td>NaN</td>\n",
              "      <td>Anhui</td>\n",
              "      <td>China</td>\n",
              "      <td>2020-01-22T17:00:00</td>\n",
              "      <td>31.826</td>\n",
              "      <td>117.226</td>\n",
              "      <td>1.0</td>\n",
              "      <td>NaN</td>\n",
              "      <td>NaN</td>\n",
              "      <td>NaN</td>\n",
              "      <td>\"Anhui</td>\n",
              "      <td>csv</td>\n",
              "    </tr>\n",
              "    <tr>\n",
              "      <th>1</th>\n",
              "      <td>NaN</td>\n",
              "      <td>NaN</td>\n",
              "      <td>Beijing</td>\n",
              "      <td>China</td>\n",
              "      <td>2020-01-22T17:00:00</td>\n",
              "      <td>40.182</td>\n",
              "      <td>116.414</td>\n",
              "      <td>14.0</td>\n",
              "      <td>NaN</td>\n",
              "      <td>NaN</td>\n",
              "      <td>NaN</td>\n",
              "      <td>\"Beijing</td>\n",
              "      <td>csv</td>\n",
              "    </tr>\n",
              "    <tr>\n",
              "      <th>2</th>\n",
              "      <td>NaN</td>\n",
              "      <td>NaN</td>\n",
              "      <td>Chongqing</td>\n",
              "      <td>China</td>\n",
              "      <td>2020-01-22T17:00:00</td>\n",
              "      <td>30.057</td>\n",
              "      <td>107.874</td>\n",
              "      <td>6.0</td>\n",
              "      <td>NaN</td>\n",
              "      <td>NaN</td>\n",
              "      <td>NaN</td>\n",
              "      <td>\"Chongqing</td>\n",
              "      <td>csv</td>\n",
              "    </tr>\n",
              "    <tr>\n",
              "      <th>3</th>\n",
              "      <td>NaN</td>\n",
              "      <td>NaN</td>\n",
              "      <td>Fujian</td>\n",
              "      <td>China</td>\n",
              "      <td>2020-01-22T17:00:00</td>\n",
              "      <td>26.079</td>\n",
              "      <td>117.987</td>\n",
              "      <td>1.0</td>\n",
              "      <td>NaN</td>\n",
              "      <td>NaN</td>\n",
              "      <td>NaN</td>\n",
              "      <td>\"Fujian</td>\n",
              "      <td>csv</td>\n",
              "    </tr>\n",
              "    <tr>\n",
              "      <th>4</th>\n",
              "      <td>NaN</td>\n",
              "      <td>NaN</td>\n",
              "      <td>Gansu</td>\n",
              "      <td>China</td>\n",
              "      <td>2020-01-22T17:00:00</td>\n",
              "      <td>36.061</td>\n",
              "      <td>103.834</td>\n",
              "      <td>NaN</td>\n",
              "      <td>NaN</td>\n",
              "      <td>NaN</td>\n",
              "      <td>NaN</td>\n",
              "      <td>\"Gansu</td>\n",
              "      <td>csv</td>\n",
              "    </tr>\n",
              "  </tbody>\n",
              "</table>\n",
              "</div>"
            ],
            "text/plain": [
              "   fips admin2 province_state country_region          last_update  latitude  \\\n",
              "0   NaN    NaN          Anhui          China  2020-01-22T17:00:00    31.826   \n",
              "1   NaN    NaN        Beijing          China  2020-01-22T17:00:00    40.182   \n",
              "2   NaN    NaN      Chongqing          China  2020-01-22T17:00:00    30.057   \n",
              "3   NaN    NaN         Fujian          China  2020-01-22T17:00:00    26.079   \n",
              "4   NaN    NaN          Gansu          China  2020-01-22T17:00:00    36.061   \n",
              "\n",
              "   longitude  confirmed  deaths  recovered  active combined_key partition_0  \n",
              "0    117.226        1.0     NaN        NaN     NaN       \"Anhui         csv  \n",
              "1    116.414       14.0     NaN        NaN     NaN     \"Beijing         csv  \n",
              "2    107.874        6.0     NaN        NaN     NaN   \"Chongqing         csv  \n",
              "3    117.987        1.0     NaN        NaN     NaN      \"Fujian         csv  \n",
              "4    103.834        NaN     NaN        NaN     NaN       \"Gansu         csv  "
            ]
          },
          "execution_count": 62,
          "metadata": {},
          "output_type": "execute_result"
        }
      ],
      "source": [
        "enigma_jhud.head()"
      ]
    },
    {
      "cell_type": "code",
      "execution_count": null,
      "id": "0e5fdfa4",
      "metadata": {
        "id": "0e5fdfa4"
      },
      "outputs": [],
      "source": [
        "response = athena_client.start_query_execution(\n",
        "    QueryString = \"SELECT * FROM nytimes_data_in_usa_countryus_county\",\n",
        "    QueryExecutionContext = {\"Database\": SCHEMA_NAME},\n",
        "    ResultConfiguration = {\n",
        "        \"OutputLocation\": S3_STAGING_DIR,\n",
        "        \"EncryptionConfiguration\": {\"EncryptionOption\": \"SSE_S3\"},\n",
        "    }\n",
        ")\n",
        "\n",
        "nytimes_data_in_usa_countryus_county = load_query_result(athena_client, response)"
      ]
    },
    {
      "cell_type": "code",
      "execution_count": null,
      "id": "c682bb77",
      "metadata": {
        "id": "c682bb77"
      },
      "outputs": [],
      "source": [
        "response = athena_client.start_query_execution(\n",
        "    QueryString = \"SELECT * FROM nytimes_data_in_usa_statesus_states\",\n",
        "    QueryExecutionContext = {\"Database\": SCHEMA_NAME},\n",
        "    ResultConfiguration = {\n",
        "        \"OutputLocation\": S3_STAGING_DIR,\n",
        "        \"EncryptionConfiguration\": {\"EncryptionOption\": \"SSE_S3\"},\n",
        "    }\n",
        ")\n",
        "\n",
        "nytimes_data_in_usa_statesus_states = load_query_result(athena_client, response)"
      ]
    },
    {
      "cell_type": "code",
      "execution_count": null,
      "id": "aba7bb42",
      "metadata": {
        "id": "aba7bb42"
      },
      "outputs": [],
      "source": [
        "response = athena_client.start_query_execution(\n",
        "    QueryString = 'SELECT * FROM state_abv',\n",
        "    QueryExecutionContext = {\"Database\": SCHEMA_NAME},\n",
        "    ResultConfiguration = {\n",
        "        \"OutputLocation\": S3_STAGING_DIR,\n",
        "        \"EncryptionConfiguration\": {\"EncryptionOption\": \"SSE_S3\"},\n",
        "    }\n",
        ")\n",
        "\n",
        "covid_db_state_abv = load_query_result(athena_client, response)"
      ]
    },
    {
      "cell_type": "code",
      "execution_count": null,
      "id": "8bd19b23",
      "metadata": {
        "id": "8bd19b23",
        "outputId": "d04926d6-d239-4bee-da19-6526b3df3029"
      },
      "outputs": [
        {
          "data": {
            "text/html": [
              "<div>\n",
              "<style scoped>\n",
              "    .dataframe tbody tr th:only-of-type {\n",
              "        vertical-align: middle;\n",
              "    }\n",
              "\n",
              "    .dataframe tbody tr th {\n",
              "        vertical-align: top;\n",
              "    }\n",
              "\n",
              "    .dataframe thead th {\n",
              "        text-align: right;\n",
              "    }\n",
              "</style>\n",
              "<table border=\"1\" class=\"dataframe\">\n",
              "  <thead>\n",
              "    <tr style=\"text-align: right;\">\n",
              "      <th></th>\n",
              "      <th>col0</th>\n",
              "      <th>col1</th>\n",
              "    </tr>\n",
              "  </thead>\n",
              "  <tbody>\n",
              "    <tr>\n",
              "      <th>0</th>\n",
              "      <td>State</td>\n",
              "      <td>Abbreviation</td>\n",
              "    </tr>\n",
              "    <tr>\n",
              "      <th>1</th>\n",
              "      <td>Alabama</td>\n",
              "      <td>AL</td>\n",
              "    </tr>\n",
              "    <tr>\n",
              "      <th>2</th>\n",
              "      <td>Alaska</td>\n",
              "      <td>AK</td>\n",
              "    </tr>\n",
              "    <tr>\n",
              "      <th>3</th>\n",
              "      <td>Arizona</td>\n",
              "      <td>AZ</td>\n",
              "    </tr>\n",
              "    <tr>\n",
              "      <th>4</th>\n",
              "      <td>Arkansas</td>\n",
              "      <td>AR</td>\n",
              "    </tr>\n",
              "  </tbody>\n",
              "</table>\n",
              "</div>"
            ],
            "text/plain": [
              "       col0          col1\n",
              "0     State  Abbreviation\n",
              "1   Alabama            AL\n",
              "2    Alaska            AK\n",
              "3   Arizona            AZ\n",
              "4  Arkansas            AR"
            ]
          },
          "execution_count": 67,
          "metadata": {},
          "output_type": "execute_result"
        }
      ],
      "source": [
        "covid_db_state_abv.head()"
      ]
    },
    {
      "cell_type": "code",
      "execution_count": null,
      "id": "84567f0d",
      "metadata": {
        "id": "84567f0d"
      },
      "outputs": [],
      "source": [
        "header = covid_db_state_abv.iloc[0]\n",
        "covid_db_state_abv = covid_db_state_abv[1:]\n",
        "covid_db_state_abv.columns = header"
      ]
    },
    {
      "cell_type": "code",
      "execution_count": null,
      "id": "8cadf3db",
      "metadata": {
        "id": "8cadf3db",
        "outputId": "e8da9883-2dd0-455c-e5e6-6774d4dec9c9"
      },
      "outputs": [
        {
          "data": {
            "text/html": [
              "<div>\n",
              "<style scoped>\n",
              "    .dataframe tbody tr th:only-of-type {\n",
              "        vertical-align: middle;\n",
              "    }\n",
              "\n",
              "    .dataframe tbody tr th {\n",
              "        vertical-align: top;\n",
              "    }\n",
              "\n",
              "    .dataframe thead th {\n",
              "        text-align: right;\n",
              "    }\n",
              "</style>\n",
              "<table border=\"1\" class=\"dataframe\">\n",
              "  <thead>\n",
              "    <tr style=\"text-align: right;\">\n",
              "      <th></th>\n",
              "      <th>State</th>\n",
              "      <th>Abbreviation</th>\n",
              "    </tr>\n",
              "  </thead>\n",
              "  <tbody>\n",
              "    <tr>\n",
              "      <th>1</th>\n",
              "      <td>Alabama</td>\n",
              "      <td>AL</td>\n",
              "    </tr>\n",
              "    <tr>\n",
              "      <th>2</th>\n",
              "      <td>Alaska</td>\n",
              "      <td>AK</td>\n",
              "    </tr>\n",
              "    <tr>\n",
              "      <th>3</th>\n",
              "      <td>Arizona</td>\n",
              "      <td>AZ</td>\n",
              "    </tr>\n",
              "    <tr>\n",
              "      <th>4</th>\n",
              "      <td>Arkansas</td>\n",
              "      <td>AR</td>\n",
              "    </tr>\n",
              "    <tr>\n",
              "      <th>5</th>\n",
              "      <td>California</td>\n",
              "      <td>CA</td>\n",
              "    </tr>\n",
              "  </tbody>\n",
              "</table>\n",
              "</div>"
            ],
            "text/plain": [
              "0       State Abbreviation\n",
              "1     Alabama           AL\n",
              "2      Alaska           AK\n",
              "3     Arizona           AZ\n",
              "4    Arkansas           AR\n",
              "5  California           CA"
            ]
          },
          "execution_count": 69,
          "metadata": {},
          "output_type": "execute_result"
        }
      ],
      "source": [
        "covid_db_state_abv.head()"
      ]
    },
    {
      "cell_type": "code",
      "execution_count": null,
      "id": "51804e16",
      "metadata": {
        "id": "51804e16"
      },
      "outputs": [],
      "source": [
        "response = athena_client.start_query_execution(\n",
        "    QueryString = 'SELECT * FROM countrycode',\n",
        "    QueryExecutionContext = {\"Database\": SCHEMA_NAME},\n",
        "    ResultConfiguration = {\n",
        "        \"OutputLocation\": S3_STAGING_DIR,\n",
        "        \"EncryptionConfiguration\": {\"EncryptionOption\": \"SSE_S3\"},\n",
        "    }\n",
        ")\n",
        "\n",
        "covid_db_countrycode = load_query_result(athena_client, response)"
      ]
    },
    {
      "cell_type": "code",
      "execution_count": null,
      "id": "ee85ed2c",
      "metadata": {
        "id": "ee85ed2c"
      },
      "outputs": [],
      "source": [
        "response = athena_client.start_query_execution(\n",
        "    QueryString = 'SELECT * FROM countypopulation',\n",
        "    QueryExecutionContext = {\"Database\": SCHEMA_NAME},\n",
        "    ResultConfiguration = {\n",
        "        \"OutputLocation\": S3_STAGING_DIR,\n",
        "        \"EncryptionConfiguration\": {\"EncryptionOption\": \"SSE_S3\"},\n",
        "    }\n",
        ")\n",
        "\n",
        "covid_db_countypopulation = load_query_result(athena_client, response)"
      ]
    },
    {
      "cell_type": "code",
      "execution_count": null,
      "id": "ba351d14",
      "metadata": {
        "id": "ba351d14"
      },
      "outputs": [],
      "source": [
        "response = athena_client.start_query_execution(\n",
        "    QueryString = \"SELECT * FROM testing_data_states_dailystates_daily\",\n",
        "    QueryExecutionContext = {\"Database\": SCHEMA_NAME},\n",
        "    ResultConfiguration = {\n",
        "        \"OutputLocation\": S3_STAGING_DIR,\n",
        "        \"EncryptionConfiguration\": {\"EncryptionOption\": \"SSE_S3\"},\n",
        "    }\n",
        ")\n",
        "\n",
        "covid_db_testing_data_states_dailystates_daily = load_query_result(athena_client, response)"
      ]
    },
    {
      "cell_type": "code",
      "execution_count": null,
      "id": "c3c13c81",
      "metadata": {
        "id": "c3c13c81"
      },
      "outputs": [],
      "source": [
        "response = athena_client.start_query_execution(\n",
        "    QueryString = 'SELECT * FROM testing_data_us_total_latestus_total_latest',\n",
        "    QueryExecutionContext = {\"Database\": SCHEMA_NAME},\n",
        "    ResultConfiguration = {\n",
        "        \"OutputLocation\": S3_STAGING_DIR,\n",
        "        \"EncryptionConfiguration\": {\"EncryptionOption\": \"SSE_S3\"},\n",
        "    }\n",
        ")\n",
        "\n",
        "covid_db_testing_data_us_total_latest = load_query_result(athena_client, response)"
      ]
    },
    {
      "cell_type": "code",
      "execution_count": null,
      "id": "1d3db0fa",
      "metadata": {
        "id": "1d3db0fa"
      },
      "outputs": [],
      "source": [
        "response = athena_client.start_query_execution(\n",
        "    QueryString = 'SELECT * FROM usa_hospital_bedsusa_hospital_beds_csv',\n",
        "    QueryExecutionContext = {\"Database\": SCHEMA_NAME},\n",
        "    ResultConfiguration = {\n",
        "        \"OutputLocation\": S3_STAGING_DIR,\n",
        "        \"EncryptionConfiguration\": {\"EncryptionOption\": \"SSE_S3\"},\n",
        "    }\n",
        ")\n",
        "\n",
        "usa_hospital_bedsusa_hospital_beds_csv = load_query_result(athena_client, response)"
      ]
    },
    {
      "cell_type": "code",
      "execution_count": null,
      "id": "03f21106",
      "metadata": {
        "id": "03f21106"
      },
      "outputs": [],
      "source": [
        "response = athena_client.start_query_execution(\n",
        "    QueryString = 'SELECT * FROM testing_data_us_dailyus_daily',\n",
        "    QueryExecutionContext = {\"Database\": SCHEMA_NAME},\n",
        "    ResultConfiguration = {\n",
        "        \"OutputLocation\": S3_STAGING_DIR,\n",
        "        \"EncryptionConfiguration\": {\"EncryptionOption\": \"SSE_S3\"},\n",
        "    }\n",
        ")\n",
        "\n",
        "covid_db_testing_data_usus_daily = load_query_result(athena_client, response)"
      ]
    },
    {
      "cell_type": "code",
      "execution_count": null,
      "id": "a0be1b09",
      "metadata": {
        "id": "a0be1b09"
      },
      "outputs": [],
      "source": [
        "response = athena_client.start_query_execution(\n",
        "    QueryString = 'SELECT * FROM usa_hospital_bedsusa_hospital_beds_csv',\n",
        "    QueryExecutionContext = {\"Database\": SCHEMA_NAME},\n",
        "    ResultConfiguration = {\n",
        "        \"OutputLocation\": S3_STAGING_DIR,\n",
        "        \"EncryptionConfiguration\": {\"EncryptionOption\": \"SSE_S3\"},\n",
        "    }\n",
        ")\n",
        "\n",
        "usa_hospital_bedsusa_hospital_beds_csv = load_query_result(athena_client, response)"
      ]
    },
    {
      "cell_type": "code",
      "execution_count": null,
      "id": "df08f953",
      "metadata": {
        "id": "df08f953",
        "outputId": "e4d0eb42-c490-461c-b07e-a14c77019cd4"
      },
      "outputs": [
        {
          "data": {
            "text/plain": [
              "Index(['date', 'state', 'positive', 'probablecases', 'negative', 'pending',\n",
              "       'totaltestresultssource', 'totaltestresults', 'hospitalizedcurrently',\n",
              "       'hospitalizedcumulative', 'inicucurrently', 'inicucumulative',\n",
              "       'onventilatorcurrently', 'onventilatorcumulative', 'recovered',\n",
              "       'lastupdateet', 'datemodified', 'checktimeet', 'death', 'hospitalized',\n",
              "       'hospitalizeddischarged', 'datechecked', 'totaltestsviral',\n",
              "       'positivetestsviral', 'negativetestsviral', 'positivecasesviral',\n",
              "       'deathconfirmed', 'deathprobable', 'totaltestencountersviral',\n",
              "       'totaltestspeopleviral', 'totaltestsantibody', 'positivetestsantibody',\n",
              "       'negativetestsantibody', 'totaltestspeopleantibody',\n",
              "       'positivetestspeopleantibody', 'negativetestspeopleantibody',\n",
              "       'totaltestspeopleantigen', 'positivetestspeopleantigen',\n",
              "       'totaltestsantigen', 'positivetestsantigen', 'fips', 'positiveincrease',\n",
              "       'negativeincrease', 'total', 'totaltestresultsincrease', 'posneg',\n",
              "       'dataqualitygrade', 'deathincrease', 'hospitalizedincrease', 'hash',\n",
              "       'commercialscore', 'negativeregularscore', 'negativescore',\n",
              "       'positivescore', 'score', 'grade'],\n",
              "      dtype='object')"
            ]
          },
          "execution_count": 82,
          "metadata": {},
          "output_type": "execute_result"
        }
      ],
      "source": [
        "covid_db_testing_data_states_dailystates_daily.columns"
      ]
    },
    {
      "cell_type": "code",
      "execution_count": null,
      "id": "56b90b09",
      "metadata": {
        "id": "56b90b09",
        "outputId": "468620d6-4738-4123-cb3a-36aab6d41faf"
      },
      "outputs": [
        {
          "data": {
            "text/plain": [
              "Index(['fips', 'admin2', 'province_state', 'country_region', 'last_update',\n",
              "       'latitude', 'longitude', 'confirmed', 'deaths', 'recovered', 'active',\n",
              "       'combined_key', 'partition_0'],\n",
              "      dtype='object')"
            ]
          },
          "execution_count": 83,
          "metadata": {},
          "output_type": "execute_result"
        }
      ],
      "source": [
        "enigma_jhud.columns"
      ]
    },
    {
      "cell_type": "code",
      "execution_count": null,
      "id": "77069d89",
      "metadata": {
        "id": "77069d89"
      },
      "outputs": [],
      "source": [
        "fact_test = covid_db_testing_data_states_dailystates_daily[['fips', 'date', 'positive', 'negative', \n",
        "                                                            'hospitalizedcurrently', 'hospitalized',\n",
        "                                                            'hospitalizeddischarged']]\n",
        "fact_engima = enigma_jhud[['fips', 'province_state', 'country_region', 'confirmed', 'deaths', 'recovered', 'active']]\n",
        "\n",
        "fact_covid = pd.merge(fact_test, fact_engima, on='fips', how='inner')"
      ]
    },
    {
      "cell_type": "code",
      "execution_count": null,
      "id": "138c3382",
      "metadata": {
        "id": "138c3382",
        "outputId": "5b61b5e3-0891-4368-b57d-1e575e44b4d0"
      },
      "outputs": [
        {
          "data": {
            "text/html": [
              "<div>\n",
              "<style scoped>\n",
              "    .dataframe tbody tr th:only-of-type {\n",
              "        vertical-align: middle;\n",
              "    }\n",
              "\n",
              "    .dataframe tbody tr th {\n",
              "        vertical-align: top;\n",
              "    }\n",
              "\n",
              "    .dataframe thead th {\n",
              "        text-align: right;\n",
              "    }\n",
              "</style>\n",
              "<table border=\"1\" class=\"dataframe\">\n",
              "  <thead>\n",
              "    <tr style=\"text-align: right;\">\n",
              "      <th></th>\n",
              "      <th>fips</th>\n",
              "      <th>date</th>\n",
              "      <th>positive</th>\n",
              "      <th>negative</th>\n",
              "      <th>hospitalizedcurrently</th>\n",
              "      <th>hospitalized</th>\n",
              "      <th>hospitalizeddischarged</th>\n",
              "      <th>province_state</th>\n",
              "      <th>country_region</th>\n",
              "      <th>confirmed</th>\n",
              "      <th>deaths</th>\n",
              "      <th>recovered</th>\n",
              "      <th>active</th>\n",
              "    </tr>\n",
              "  </thead>\n",
              "  <tbody>\n",
              "    <tr>\n",
              "      <th>0</th>\n",
              "      <td>72.0</td>\n",
              "      <td>20210307</td>\n",
              "      <td>101327</td>\n",
              "      <td>305972.0</td>\n",
              "      <td>147.0</td>\n",
              "      <td>NaN</td>\n",
              "      <td>NaN</td>\n",
              "      <td>Puerto Rico</td>\n",
              "      <td>US</td>\n",
              "      <td>3.0</td>\n",
              "      <td>0.0</td>\n",
              "      <td>0.0</td>\n",
              "      <td>NaN</td>\n",
              "    </tr>\n",
              "    <tr>\n",
              "      <th>1</th>\n",
              "      <td>72.0</td>\n",
              "      <td>20210307</td>\n",
              "      <td>101327</td>\n",
              "      <td>305972.0</td>\n",
              "      <td>147.0</td>\n",
              "      <td>NaN</td>\n",
              "      <td>NaN</td>\n",
              "      <td>Puerto Rico</td>\n",
              "      <td>US</td>\n",
              "      <td>5.0</td>\n",
              "      <td>0.0</td>\n",
              "      <td>0.0</td>\n",
              "      <td>NaN</td>\n",
              "    </tr>\n",
              "    <tr>\n",
              "      <th>2</th>\n",
              "      <td>72.0</td>\n",
              "      <td>20210307</td>\n",
              "      <td>101327</td>\n",
              "      <td>305972.0</td>\n",
              "      <td>147.0</td>\n",
              "      <td>NaN</td>\n",
              "      <td>NaN</td>\n",
              "      <td>Puerto Rico</td>\n",
              "      <td>US</td>\n",
              "      <td>5.0</td>\n",
              "      <td>0.0</td>\n",
              "      <td>0.0</td>\n",
              "      <td>NaN</td>\n",
              "    </tr>\n",
              "    <tr>\n",
              "      <th>3</th>\n",
              "      <td>72.0</td>\n",
              "      <td>20210307</td>\n",
              "      <td>101327</td>\n",
              "      <td>305972.0</td>\n",
              "      <td>147.0</td>\n",
              "      <td>NaN</td>\n",
              "      <td>NaN</td>\n",
              "      <td>Puerto Rico</td>\n",
              "      <td>US</td>\n",
              "      <td>14.0</td>\n",
              "      <td>0.0</td>\n",
              "      <td>0.0</td>\n",
              "      <td>NaN</td>\n",
              "    </tr>\n",
              "    <tr>\n",
              "      <th>4</th>\n",
              "      <td>72.0</td>\n",
              "      <td>20210307</td>\n",
              "      <td>101327</td>\n",
              "      <td>305972.0</td>\n",
              "      <td>147.0</td>\n",
              "      <td>NaN</td>\n",
              "      <td>NaN</td>\n",
              "      <td>Puerto Rico</td>\n",
              "      <td>US</td>\n",
              "      <td>21.0</td>\n",
              "      <td>1.0</td>\n",
              "      <td>0.0</td>\n",
              "      <td>NaN</td>\n",
              "    </tr>\n",
              "  </tbody>\n",
              "</table>\n",
              "</div>"
            ],
            "text/plain": [
              "   fips      date  positive  negative  hospitalizedcurrently  hospitalized  \\\n",
              "0  72.0  20210307    101327  305972.0                  147.0           NaN   \n",
              "1  72.0  20210307    101327  305972.0                  147.0           NaN   \n",
              "2  72.0  20210307    101327  305972.0                  147.0           NaN   \n",
              "3  72.0  20210307    101327  305972.0                  147.0           NaN   \n",
              "4  72.0  20210307    101327  305972.0                  147.0           NaN   \n",
              "\n",
              "   hospitalizeddischarged province_state country_region  confirmed  deaths  \\\n",
              "0                     NaN    Puerto Rico             US        3.0     0.0   \n",
              "1                     NaN    Puerto Rico             US        5.0     0.0   \n",
              "2                     NaN    Puerto Rico             US        5.0     0.0   \n",
              "3                     NaN    Puerto Rico             US       14.0     0.0   \n",
              "4                     NaN    Puerto Rico             US       21.0     1.0   \n",
              "\n",
              "   recovered  active  \n",
              "0        0.0     NaN  \n",
              "1        0.0     NaN  \n",
              "2        0.0     NaN  \n",
              "3        0.0     NaN  \n",
              "4        0.0     NaN  "
            ]
          },
          "execution_count": 85,
          "metadata": {},
          "output_type": "execute_result"
        }
      ],
      "source": [
        "fact_covid.head()"
      ]
    },
    {
      "cell_type": "code",
      "execution_count": null,
      "id": "e9bfed0c",
      "metadata": {
        "id": "e9bfed0c",
        "outputId": "bcd70783-3fb0-43d9-8488-ea0e20bf8049"
      },
      "outputs": [
        {
          "data": {
            "text/plain": [
              "Index(['date', 'county', 'state', 'fips', 'cases', 'deaths'], dtype='object')"
            ]
          },
          "execution_count": 86,
          "metadata": {},
          "output_type": "execute_result"
        }
      ],
      "source": [
        "nytimes_data_in_usa_countryus_county.columns"
      ]
    },
    {
      "cell_type": "code",
      "execution_count": null,
      "id": "6a1c6da4",
      "metadata": {
        "id": "6a1c6da4"
      },
      "outputs": [],
      "source": [
        "reg1 = enigma_jhud[['fips', 'province_state', 'country_region', 'latitude', 'longitude']]\n",
        "reg2 = nytimes_data_in_usa_countryus_county[['fips', 'county', 'state']]\n",
        "dim_reg_covid = pd.merge(reg1, reg2, on='fips', how='inner')"
      ]
    },
    {
      "cell_type": "code",
      "execution_count": null,
      "id": "0b64bc76",
      "metadata": {
        "id": "0b64bc76",
        "outputId": "27c98e17-38ec-416c-fc4f-c3b77d40336f"
      },
      "outputs": [
        {
          "data": {
            "text/html": [
              "<div>\n",
              "<style scoped>\n",
              "    .dataframe tbody tr th:only-of-type {\n",
              "        vertical-align: middle;\n",
              "    }\n",
              "\n",
              "    .dataframe tbody tr th {\n",
              "        vertical-align: top;\n",
              "    }\n",
              "\n",
              "    .dataframe thead th {\n",
              "        text-align: right;\n",
              "    }\n",
              "</style>\n",
              "<table border=\"1\" class=\"dataframe\">\n",
              "  <thead>\n",
              "    <tr style=\"text-align: right;\">\n",
              "      <th></th>\n",
              "      <th>fips</th>\n",
              "      <th>province_state</th>\n",
              "      <th>country_region</th>\n",
              "      <th>latitude</th>\n",
              "      <th>longitude</th>\n",
              "      <th>county</th>\n",
              "      <th>state</th>\n",
              "    </tr>\n",
              "  </thead>\n",
              "  <tbody>\n",
              "    <tr>\n",
              "      <th>0</th>\n",
              "      <td>NaN</td>\n",
              "      <td>Anhui</td>\n",
              "      <td>China</td>\n",
              "      <td>31.826</td>\n",
              "      <td>117.226</td>\n",
              "      <td>New York City</td>\n",
              "      <td>New York</td>\n",
              "    </tr>\n",
              "    <tr>\n",
              "      <th>1</th>\n",
              "      <td>NaN</td>\n",
              "      <td>Anhui</td>\n",
              "      <td>China</td>\n",
              "      <td>31.826</td>\n",
              "      <td>117.226</td>\n",
              "      <td>Unknown</td>\n",
              "      <td>Rhode Island</td>\n",
              "    </tr>\n",
              "    <tr>\n",
              "      <th>2</th>\n",
              "      <td>NaN</td>\n",
              "      <td>Anhui</td>\n",
              "      <td>China</td>\n",
              "      <td>31.826</td>\n",
              "      <td>117.226</td>\n",
              "      <td>New York City</td>\n",
              "      <td>New York</td>\n",
              "    </tr>\n",
              "    <tr>\n",
              "      <th>3</th>\n",
              "      <td>NaN</td>\n",
              "      <td>Anhui</td>\n",
              "      <td>China</td>\n",
              "      <td>31.826</td>\n",
              "      <td>117.226</td>\n",
              "      <td>Unknown</td>\n",
              "      <td>Rhode Island</td>\n",
              "    </tr>\n",
              "    <tr>\n",
              "      <th>4</th>\n",
              "      <td>NaN</td>\n",
              "      <td>Anhui</td>\n",
              "      <td>China</td>\n",
              "      <td>31.826</td>\n",
              "      <td>117.226</td>\n",
              "      <td>New York City</td>\n",
              "      <td>New York</td>\n",
              "    </tr>\n",
              "  </tbody>\n",
              "</table>\n",
              "</div>"
            ],
            "text/plain": [
              "   fips province_state country_region  latitude  longitude         county  \\\n",
              "0   NaN          Anhui          China    31.826    117.226  New York City   \n",
              "1   NaN          Anhui          China    31.826    117.226        Unknown   \n",
              "2   NaN          Anhui          China    31.826    117.226  New York City   \n",
              "3   NaN          Anhui          China    31.826    117.226        Unknown   \n",
              "4   NaN          Anhui          China    31.826    117.226  New York City   \n",
              "\n",
              "          state  \n",
              "0      New York  \n",
              "1  Rhode Island  \n",
              "2      New York  \n",
              "3  Rhode Island  \n",
              "4      New York  "
            ]
          },
          "execution_count": 88,
          "metadata": {},
          "output_type": "execute_result"
        }
      ],
      "source": [
        "dim_reg_covid.head()"
      ]
    },
    {
      "cell_type": "code",
      "execution_count": null,
      "id": "285dabb7",
      "metadata": {
        "id": "285dabb7",
        "outputId": "40f3b33e-45b4-483c-ac96-1849e93fb3eb"
      },
      "outputs": [
        {
          "data": {
            "text/plain": [
              "(3548832, 7)"
            ]
          },
          "execution_count": 102,
          "metadata": {},
          "output_type": "execute_result"
        }
      ],
      "source": [
        "dim_reg_covid.shape"
      ]
    },
    {
      "cell_type": "code",
      "execution_count": null,
      "id": "2092e0f7",
      "metadata": {
        "id": "2092e0f7"
      },
      "outputs": [],
      "source": [
        "dim_date = covid_db_testing_data_states_dailystates_daily[['fips', 'date']]"
      ]
    },
    {
      "cell_type": "code",
      "execution_count": null,
      "id": "9e7b3036",
      "metadata": {
        "id": "9e7b3036",
        "outputId": "85d861b4-81f3-4674-97c7-72a80ff14b7d"
      },
      "outputs": [
        {
          "data": {
            "text/html": [
              "<div>\n",
              "<style scoped>\n",
              "    .dataframe tbody tr th:only-of-type {\n",
              "        vertical-align: middle;\n",
              "    }\n",
              "\n",
              "    .dataframe tbody tr th {\n",
              "        vertical-align: top;\n",
              "    }\n",
              "\n",
              "    .dataframe thead th {\n",
              "        text-align: right;\n",
              "    }\n",
              "</style>\n",
              "<table border=\"1\" class=\"dataframe\">\n",
              "  <thead>\n",
              "    <tr style=\"text-align: right;\">\n",
              "      <th></th>\n",
              "      <th>fips</th>\n",
              "      <th>date</th>\n",
              "    </tr>\n",
              "  </thead>\n",
              "  <tbody>\n",
              "    <tr>\n",
              "      <th>0</th>\n",
              "      <td>2.0</td>\n",
              "      <td>20210307</td>\n",
              "    </tr>\n",
              "    <tr>\n",
              "      <th>1</th>\n",
              "      <td>1.0</td>\n",
              "      <td>20210307</td>\n",
              "    </tr>\n",
              "    <tr>\n",
              "      <th>2</th>\n",
              "      <td>5.0</td>\n",
              "      <td>20210307</td>\n",
              "    </tr>\n",
              "    <tr>\n",
              "      <th>3</th>\n",
              "      <td>60.0</td>\n",
              "      <td>20210307</td>\n",
              "    </tr>\n",
              "    <tr>\n",
              "      <th>4</th>\n",
              "      <td>4.0</td>\n",
              "      <td>20210307</td>\n",
              "    </tr>\n",
              "  </tbody>\n",
              "</table>\n",
              "</div>"
            ],
            "text/plain": [
              "   fips      date\n",
              "0   2.0  20210307\n",
              "1   1.0  20210307\n",
              "2   5.0  20210307\n",
              "3  60.0  20210307\n",
              "4   4.0  20210307"
            ]
          },
          "execution_count": 90,
          "metadata": {},
          "output_type": "execute_result"
        }
      ],
      "source": [
        "dim_date.head()"
      ]
    },
    {
      "cell_type": "code",
      "execution_count": null,
      "id": "7b0fb724",
      "metadata": {
        "id": "7b0fb724",
        "outputId": "fb17fd1e-d845-4031-aeac-13c8dc3d95fd"
      },
      "outputs": [
        {
          "name": "stderr",
          "output_type": "stream",
          "text": [
            "C:\\Users\\segun\\AppData\\Local\\Temp\\ipykernel_3024\\2345376272.py:1: SettingWithCopyWarning: \n",
            "A value is trying to be set on a copy of a slice from a DataFrame.\n",
            "Try using .loc[row_indexer,col_indexer] = value instead\n",
            "\n",
            "See the caveats in the documentation: https://pandas.pydata.org/pandas-docs/stable/user_guide/indexing.html#returning-a-view-versus-a-copy\n",
            "  dim_date['date'] = pd.to_datetime(dim_date['date'], format = '%Y%m%d')\n"
          ]
        }
      ],
      "source": [
        "dim_date['date'] = pd.to_datetime(dim_date['date'], format = '%Y%m%d')"
      ]
    },
    {
      "cell_type": "code",
      "execution_count": null,
      "id": "c35aef6d",
      "metadata": {
        "id": "c35aef6d",
        "outputId": "7254b5de-56aa-4520-e0a0-e4567a9cba91"
      },
      "outputs": [
        {
          "data": {
            "text/html": [
              "<div>\n",
              "<style scoped>\n",
              "    .dataframe tbody tr th:only-of-type {\n",
              "        vertical-align: middle;\n",
              "    }\n",
              "\n",
              "    .dataframe tbody tr th {\n",
              "        vertical-align: top;\n",
              "    }\n",
              "\n",
              "    .dataframe thead th {\n",
              "        text-align: right;\n",
              "    }\n",
              "</style>\n",
              "<table border=\"1\" class=\"dataframe\">\n",
              "  <thead>\n",
              "    <tr style=\"text-align: right;\">\n",
              "      <th></th>\n",
              "      <th>fips</th>\n",
              "      <th>date</th>\n",
              "    </tr>\n",
              "  </thead>\n",
              "  <tbody>\n",
              "    <tr>\n",
              "      <th>0</th>\n",
              "      <td>2.0</td>\n",
              "      <td>2021-03-07</td>\n",
              "    </tr>\n",
              "    <tr>\n",
              "      <th>1</th>\n",
              "      <td>1.0</td>\n",
              "      <td>2021-03-07</td>\n",
              "    </tr>\n",
              "    <tr>\n",
              "      <th>2</th>\n",
              "      <td>5.0</td>\n",
              "      <td>2021-03-07</td>\n",
              "    </tr>\n",
              "    <tr>\n",
              "      <th>3</th>\n",
              "      <td>60.0</td>\n",
              "      <td>2021-03-07</td>\n",
              "    </tr>\n",
              "    <tr>\n",
              "      <th>4</th>\n",
              "      <td>4.0</td>\n",
              "      <td>2021-03-07</td>\n",
              "    </tr>\n",
              "  </tbody>\n",
              "</table>\n",
              "</div>"
            ],
            "text/plain": [
              "   fips       date\n",
              "0   2.0 2021-03-07\n",
              "1   1.0 2021-03-07\n",
              "2   5.0 2021-03-07\n",
              "3  60.0 2021-03-07\n",
              "4   4.0 2021-03-07"
            ]
          },
          "execution_count": 92,
          "metadata": {},
          "output_type": "execute_result"
        }
      ],
      "source": [
        "dim_date.head()"
      ]
    },
    {
      "cell_type": "code",
      "execution_count": null,
      "id": "8c03a806",
      "metadata": {
        "id": "8c03a806",
        "outputId": "89e89b25-4914-423c-cce4-532532f7b9a8"
      },
      "outputs": [
        {
          "name": "stderr",
          "output_type": "stream",
          "text": [
            "C:\\Users\\segun\\AppData\\Local\\Temp\\ipykernel_3024\\658808806.py:1: SettingWithCopyWarning: \n",
            "A value is trying to be set on a copy of a slice from a DataFrame.\n",
            "Try using .loc[row_indexer,col_indexer] = value instead\n",
            "\n",
            "See the caveats in the documentation: https://pandas.pydata.org/pandas-docs/stable/user_guide/indexing.html#returning-a-view-versus-a-copy\n",
            "  dim_date['year'] = dim_date['date'].dt.year\n",
            "C:\\Users\\segun\\AppData\\Local\\Temp\\ipykernel_3024\\658808806.py:2: SettingWithCopyWarning: \n",
            "A value is trying to be set on a copy of a slice from a DataFrame.\n",
            "Try using .loc[row_indexer,col_indexer] = value instead\n",
            "\n",
            "See the caveats in the documentation: https://pandas.pydata.org/pandas-docs/stable/user_guide/indexing.html#returning-a-view-versus-a-copy\n",
            "  dim_date['month'] = dim_date['date'].dt.month\n",
            "C:\\Users\\segun\\AppData\\Local\\Temp\\ipykernel_3024\\658808806.py:3: SettingWithCopyWarning: \n",
            "A value is trying to be set on a copy of a slice from a DataFrame.\n",
            "Try using .loc[row_indexer,col_indexer] = value instead\n",
            "\n",
            "See the caveats in the documentation: https://pandas.pydata.org/pandas-docs/stable/user_guide/indexing.html#returning-a-view-versus-a-copy\n",
            "  dim_date['day_of_week'] = dim_date['date'].dt.dayofweek\n"
          ]
        }
      ],
      "source": [
        "dim_date['year'] = dim_date['date'].dt.year\n",
        "dim_date['month'] = dim_date['date'].dt.month\n",
        "dim_date['day_of_week'] = dim_date['date'].dt.dayofweek"
      ]
    },
    {
      "cell_type": "code",
      "execution_count": null,
      "id": "61e6cd24",
      "metadata": {
        "id": "61e6cd24",
        "outputId": "42e870bb-984e-4054-9784-e37a32d1e1a2"
      },
      "outputs": [
        {
          "data": {
            "text/html": [
              "<div>\n",
              "<style scoped>\n",
              "    .dataframe tbody tr th:only-of-type {\n",
              "        vertical-align: middle;\n",
              "    }\n",
              "\n",
              "    .dataframe tbody tr th {\n",
              "        vertical-align: top;\n",
              "    }\n",
              "\n",
              "    .dataframe thead th {\n",
              "        text-align: right;\n",
              "    }\n",
              "</style>\n",
              "<table border=\"1\" class=\"dataframe\">\n",
              "  <thead>\n",
              "    <tr style=\"text-align: right;\">\n",
              "      <th></th>\n",
              "      <th>fips</th>\n",
              "      <th>date</th>\n",
              "      <th>year</th>\n",
              "      <th>month</th>\n",
              "      <th>day_of_week</th>\n",
              "    </tr>\n",
              "  </thead>\n",
              "  <tbody>\n",
              "    <tr>\n",
              "      <th>0</th>\n",
              "      <td>2.0</td>\n",
              "      <td>2021-03-07</td>\n",
              "      <td>2021</td>\n",
              "      <td>3</td>\n",
              "      <td>6</td>\n",
              "    </tr>\n",
              "    <tr>\n",
              "      <th>1</th>\n",
              "      <td>1.0</td>\n",
              "      <td>2021-03-07</td>\n",
              "      <td>2021</td>\n",
              "      <td>3</td>\n",
              "      <td>6</td>\n",
              "    </tr>\n",
              "    <tr>\n",
              "      <th>2</th>\n",
              "      <td>5.0</td>\n",
              "      <td>2021-03-07</td>\n",
              "      <td>2021</td>\n",
              "      <td>3</td>\n",
              "      <td>6</td>\n",
              "    </tr>\n",
              "    <tr>\n",
              "      <th>3</th>\n",
              "      <td>60.0</td>\n",
              "      <td>2021-03-07</td>\n",
              "      <td>2021</td>\n",
              "      <td>3</td>\n",
              "      <td>6</td>\n",
              "    </tr>\n",
              "    <tr>\n",
              "      <th>4</th>\n",
              "      <td>4.0</td>\n",
              "      <td>2021-03-07</td>\n",
              "      <td>2021</td>\n",
              "      <td>3</td>\n",
              "      <td>6</td>\n",
              "    </tr>\n",
              "  </tbody>\n",
              "</table>\n",
              "</div>"
            ],
            "text/plain": [
              "   fips       date  year  month  day_of_week\n",
              "0   2.0 2021-03-07  2021      3            6\n",
              "1   1.0 2021-03-07  2021      3            6\n",
              "2   5.0 2021-03-07  2021      3            6\n",
              "3  60.0 2021-03-07  2021      3            6\n",
              "4   4.0 2021-03-07  2021      3            6"
            ]
          },
          "execution_count": 94,
          "metadata": {},
          "output_type": "execute_result"
        }
      ],
      "source": [
        "dim_date.head()"
      ]
    },
    {
      "cell_type": "code",
      "execution_count": null,
      "id": "1e3b7199",
      "metadata": {
        "id": "1e3b7199"
      },
      "outputs": [],
      "source": [
        "dim_hosp = usa_hospital_bedsusa_hospital_beds_csv[['fips', 'hospital_name', 'hospital_type', 'hq_address', 'hq_city', 'hq_state']]"
      ]
    },
    {
      "cell_type": "code",
      "execution_count": null,
      "id": "8b825a2d",
      "metadata": {
        "id": "8b825a2d"
      },
      "outputs": [],
      "source": [
        "bucket = \"covid19-de-pj\""
      ]
    },
    {
      "cell_type": "code",
      "execution_count": null,
      "id": "fd079af0",
      "metadata": {
        "id": "fd079af0"
      },
      "outputs": [],
      "source": [
        "csv_buffer = StringIO()\n",
        "fact_covid.to_csv(csv_buffer)"
      ]
    },
    {
      "cell_type": "code",
      "execution_count": null,
      "id": "77d1df70",
      "metadata": {
        "id": "77d1df70",
        "outputId": "2a593122-013e-4ddb-ecda-212d767c22e9"
      },
      "outputs": [
        {
          "data": {
            "text/plain": [
              "{'ResponseMetadata': {'RequestId': 'SFZ3GWPH1KXATMK6',\n",
              "  'HostId': 'wEHnBpvdBB1sjCwvrnzCQcA1QVkbDf7SR2CW+hHT6M34mDyo1JGnPee1EQv1imNA/75OQOC0Fu0=',\n",
              "  'HTTPStatusCode': 200,\n",
              "  'HTTPHeaders': {'x-amz-id-2': 'wEHnBpvdBB1sjCwvrnzCQcA1QVkbDf7SR2CW+hHT6M34mDyo1JGnPee1EQv1imNA/75OQOC0Fu0=',\n",
              "   'x-amz-request-id': 'SFZ3GWPH1KXATMK6',\n",
              "   'date': 'Tue, 21 Mar 2023 16:50:07 GMT',\n",
              "   'x-amz-server-side-encryption': 'AES256',\n",
              "   'etag': '\"1d3733333aca8b37645d5c74d05145c6\"',\n",
              "   'server': 'AmazonS3',\n",
              "   'content-length': '0'},\n",
              "  'RetryAttempts': 1},\n",
              " 'ETag': '\"1d3733333aca8b37645d5c74d05145c6\"',\n",
              " 'ServerSideEncryption': 'AES256'}"
            ]
          },
          "execution_count": 100,
          "metadata": {},
          "output_type": "execute_result"
        }
      ],
      "source": [
        "s3_resource = boto3.resource('s3')\n",
        "s3_resource.Object(bucket, 'output/fact_covid.csv').put(Body=csv_buffer.getvalue())"
      ]
    },
    {
      "cell_type": "code",
      "execution_count": null,
      "id": "d8a27df6",
      "metadata": {
        "scrolled": true,
        "id": "d8a27df6",
        "outputId": "231d3bed-0a3f-4ed7-fc3c-5e1679fd0f4d"
      },
      "outputs": [
        {
          "data": {
            "text/plain": [
              "{'ResponseMetadata': {'RequestId': '9X459KXCA835XVW8',\n",
              "  'HostId': '/hh1kdObNoZsTzHdbnMBN8Z1i1wMOkBF+fijgj8GkyqSgRadHYYvf2pZ4rCSjj5j0ACEQ+g7oNQ=',\n",
              "  'HTTPStatusCode': 200,\n",
              "  'HTTPHeaders': {'x-amz-id-2': '/hh1kdObNoZsTzHdbnMBN8Z1i1wMOkBF+fijgj8GkyqSgRadHYYvf2pZ4rCSjj5j0ACEQ+g7oNQ=',\n",
              "   'x-amz-request-id': '9X459KXCA835XVW8',\n",
              "   'date': 'Tue, 21 Mar 2023 17:37:30 GMT',\n",
              "   'x-amz-server-side-encryption': 'AES256',\n",
              "   'etag': '\"19eb0b77e7f7441c686829bc3fd1a906\"',\n",
              "   'server': 'AmazonS3',\n",
              "   'content-length': '0'},\n",
              "  'RetryAttempts': 0},\n",
              " 'ETag': '\"19eb0b77e7f7441c686829bc3fd1a906\"',\n",
              " 'ServerSideEncryption': 'AES256'}"
            ]
          },
          "execution_count": 118,
          "metadata": {},
          "output_type": "execute_result"
        }
      ],
      "source": [
        "csv_buff = StringIO()\n",
        "dim_date.to_csv(csv_buff)\n",
        "#s3_resource.Object(bucket, 'output/dim_hosp.csv').put(Body=csv_buff.getvalue())\n",
        "s3_resource.Object(bucket, 'output/dim_date.csv').put(Body=csv_buff.getvalue())\n",
        "#s3_resource.Object(bucket, 'output/dim_reg_covid.csv').put(Body=csv_buffer.getvalue())\n",
        "#s3_resource.Object(bucket, 'output/fact_covid.csv').put(Body=csv_buffer.getvalue())"
      ]
    },
    {
      "cell_type": "code",
      "execution_count": null,
      "id": "37eb4f7d",
      "metadata": {
        "id": "37eb4f7d",
        "outputId": "eaae7262-c219-4f9e-c8d8-fccf7ed74971"
      },
      "outputs": [
        {
          "data": {
            "text/plain": [
              "{'ResponseMetadata': {'RequestId': 'SE389X7R2G6MSK71',\n",
              "  'HostId': '/N3dxCriRmjJgeKiFuB+ESwB2vACkLeiPcwYrmu6v0EN9amzEeNfMLkZlh4BzZpVrKLkjnXz3Fs=',\n",
              "  'HTTPStatusCode': 200,\n",
              "  'HTTPHeaders': {'x-amz-id-2': '/N3dxCriRmjJgeKiFuB+ESwB2vACkLeiPcwYrmu6v0EN9amzEeNfMLkZlh4BzZpVrKLkjnXz3Fs=',\n",
              "   'x-amz-request-id': 'SE389X7R2G6MSK71',\n",
              "   'date': 'Tue, 21 Mar 2023 17:40:21 GMT',\n",
              "   'x-amz-server-side-encryption': 'AES256',\n",
              "   'etag': '\"0d7d4736a8179953c8c3f9a0d534c9d7\"',\n",
              "   'server': 'AmazonS3',\n",
              "   'content-length': '0',\n",
              "   'connection': 'close'},\n",
              "  'RetryAttempts': 0},\n",
              " 'ETag': '\"0d7d4736a8179953c8c3f9a0d534c9d7\"',\n",
              " 'ServerSideEncryption': 'AES256'}"
            ]
          },
          "execution_count": 120,
          "metadata": {},
          "output_type": "execute_result"
        }
      ],
      "source": [
        "csv_buffe = StringIO()\n",
        "dim_reg_covid.to_csv(csv_buffe)\n",
        "s3_resource.Object(bucket, 'output/dim_reg_covid.csv').put(Body=csv_buffe.getvalue())"
      ]
    },
    {
      "cell_type": "code",
      "execution_count": null,
      "id": "cef42fa3",
      "metadata": {
        "id": "cef42fa3",
        "outputId": "d7646e52-6f4b-457d-a123-0f2a2e8b2ad5"
      },
      "outputs": [
        {
          "name": "stdout",
          "output_type": "stream",
          "text": [
            "CREATE TABLE \"dim_date\" (\n",
            "\"index\" INTEGER,\n",
            "  \"fips\" REAL,\n",
            "  \"date\" TIMESTAMP,\n",
            "  \"year\" INTEGER,\n",
            "  \"month\" INTEGER,\n",
            "  \"day_of_week\" INTEGER\n",
            ")\n"
          ]
        }
      ],
      "source": [
        "dim_datesql = pd.io.sql.get_schema(dim_date.reset_index(), 'dim_date')\n",
        "print(''.join(dim_datesql))"
      ]
    },
    {
      "cell_type": "code",
      "execution_count": null,
      "id": "1465d2e3",
      "metadata": {
        "id": "1465d2e3",
        "outputId": "9a218ee6-eea6-4cd5-9554-d942862ac136"
      },
      "outputs": [
        {
          "name": "stdout",
          "output_type": "stream",
          "text": [
            "CREATE TABLE \"fact_covid\" (\n",
            "\"index\" INTEGER,\n",
            "  \"fips\" REAL,\n",
            "  \"date\" INTEGER,\n",
            "  \"positive\" INTEGER,\n",
            "  \"negative\" REAL,\n",
            "  \"hospitalizedcurrently\" REAL,\n",
            "  \"hospitalized\" REAL,\n",
            "  \"hospitalizeddischarged\" REAL,\n",
            "  \"province_state\" TEXT,\n",
            "  \"country_region\" TEXT,\n",
            "  \"confirmed\" REAL,\n",
            "  \"deaths\" REAL,\n",
            "  \"recovered\" REAL,\n",
            "  \"active\" REAL\n",
            ")\n"
          ]
        }
      ],
      "source": [
        "fact_covidsql = pd.io.sql.get_schema(fact_covid.reset_index(), 'fact_covid')\n",
        "print(''.join(fact_covidsql))"
      ]
    },
    {
      "cell_type": "code",
      "execution_count": null,
      "id": "415c14c5",
      "metadata": {
        "id": "415c14c5",
        "outputId": "213ad0fd-60ac-40f3-825a-bdf247ebea7a"
      },
      "outputs": [
        {
          "name": "stdout",
          "output_type": "stream",
          "text": [
            "CREATE TABLE \"dim_reg_covid\" (\n",
            "\"index\" INTEGER,\n",
            "  \"fips\" REAL,\n",
            "  \"province_state\" TEXT,\n",
            "  \"country_region\" TEXT,\n",
            "  \"latitude\" REAL,\n",
            "  \"longitude\" REAL,\n",
            "  \"county\" TEXT,\n",
            "  \"state\" TEXT\n",
            ")\n"
          ]
        }
      ],
      "source": [
        "dim_reg_covidsql = pd.io.sql.get_schema(dim_reg_covid.reset_index(), 'dim_reg_covid')\n",
        "print(''.join(dim_reg_covidsql))"
      ]
    },
    {
      "cell_type": "code",
      "execution_count": null,
      "id": "b4d3464b",
      "metadata": {
        "scrolled": false,
        "id": "b4d3464b",
        "outputId": "0a8b9a34-119d-48c8-d8da-71981a8ca15f"
      },
      "outputs": [
        {
          "name": "stdout",
          "output_type": "stream",
          "text": [
            "CREATE TABLE \"dim_hosp\" (\n",
            "\"index\" TEXT,\n",
            "  \"fips\" TEXT,\n",
            "  \"hospital_name\" TEXT,\n",
            "  \"hospital_type\" TEXT,\n",
            "  \"hq_address\" TEXT,\n",
            "  \"hq_city\" TEXT,\n",
            "  \"hq_state\" TEXT\n",
            ")\n"
          ]
        }
      ],
      "source": [
        "dim_hospsql = pd.io.sql.get_schema(dim_hosp.reset_index(), 'dim_hosp')\n",
        "print(''.join(dim_hospsql))"
      ]
    },
    {
      "cell_type": "code",
      "execution_count": null,
      "id": "831f4dff",
      "metadata": {
        "id": "831f4dff"
      },
      "outputs": [],
      "source": [
        "import redshift_connector"
      ]
    },
    {
      "cell_type": "code",
      "execution_count": null,
      "id": "cc9545fd",
      "metadata": {
        "id": "cc9545fd"
      },
      "outputs": [],
      "source": [
        "conn = redshift_connector.connect(\n",
        "        host = '',\n",
        "        database = 'dev',\n",
        "        port = 5439,\n",
        "        user = 'awsuser',\n",
        "        password = ''\n",
        "        )"
      ]
    }
  ],
  "metadata": {
    "kernelspec": {
      "display_name": "Python 3 (ipykernel)",
      "language": "python",
      "name": "python3"
    },
    "language_info": {
      "codemirror_mode": {
        "name": "ipython",
        "version": 3
      },
      "file_extension": ".py",
      "mimetype": "text/x-python",
      "name": "python",
      "nbconvert_exporter": "python",
      "pygments_lexer": "ipython3",
      "version": "3.9.16"
    },
    "colab": {
      "provenance": [],
      "include_colab_link": true
    }
  },
  "nbformat": 4,
  "nbformat_minor": 5
}